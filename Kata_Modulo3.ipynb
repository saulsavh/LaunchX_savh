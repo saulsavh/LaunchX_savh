{
 "cells": [
  {
   "cell_type": "markdown",
   "metadata": {},
   "source": [
    "# Ejercicio - Escribir declaraciones '''if, else, y elif'''"
   ]
  },
  {
   "cell_type": "markdown",
   "metadata": {},
   "source": [
    "Para este ejercicio, escribirás una lógica condicional que imprima una advertencia si un asteroide se acerca a la Tierra demasiado rápido. La velocidad del asteroide varía dependiendo de lo cerca que esté del sol, y cualquier velocidad superior a 25 kilómetros por segundo (km/s) merece una advertencia.\n",
    "\n",
    "### Un asteroide se acerca, y viaja a una velocidad de 49 km/s"
   ]
  },
  {
   "cell_type": "code",
   "execution_count": 4,
   "metadata": {},
   "outputs": [
    {
     "name": "stdout",
     "output_type": "stream",
     "text": [
      "Este es el sistema de alarma contra asteroides de region alpha mision LaunchX\n",
      "analizando\n",
      "·\n",
      "·\n",
      "·\n",
      "Sistemas de alarma:\n",
      "           sin advertencias\n"
     ]
    }
   ],
   "source": [
    "import time\n",
    "vel = 49\n",
    "print('Este es el sistema de alarma contra asteroides de region alpha mision LaunchX')\n",
    "time.sleep(3)\n",
    "print('analizando')\n",
    "time.sleep(1)\n",
    "print('·')\n",
    "time.sleep(1)\n",
    "print('·')\n",
    "time.sleep(1)\n",
    "print('·')\n",
    "time.sleep(1)\n",
    "if vel > 25:\n",
    "      print('advertencia de asteroide!!')\n",
    "      time.sleep(1)\n",
    "      print('asteroide en cielo region alpha a velocidad preocupante!!')\n",
    "else:\n",
    "      print('Sistemas de alarma:')\n",
    "      time.sleep(1)\n",
    "      print('           sin advertencias')\n"
   ]
  },
  {
   "cell_type": "markdown",
   "metadata": {},
   "source": [
    "Si un asteroide entra en la atmósfera de la Tierra a una velocidad mayor o igual a 20 km/s, a veces produce un rayo de luz que se puede ver desde la Tierra. Escribe la lógica condicional que usa declaraciones if, else, y elif para alertar a las personas de todo el mundo que deben buscar un asteroide en el cielo. ¡Hay uno que se dirige a la tierra ahora a una velocidad de 19 km/s!"
   ]
  },
  {
   "cell_type": "code",
   "execution_count": 7,
   "metadata": {},
   "outputs": [
    {
     "name": "stdout",
     "output_type": "stream",
     "text": [
      "Advertencia!\n",
      "Advertencia!\n",
      "Se le informa a todos que un asteroide se encuetra a punto de cruzar la atmosfera terrestre\n",
      "El asteroide mantiene una trayectoria no identificada\n",
      "se le pide a la poblacion general que salgan a sus patios y vean el cielo\n",
      "llamen a la mision LaunchX en caso de avistar un rayo de luz en el cielo\n"
     ]
    }
   ],
   "source": [
    "import time\n",
    "vel = 19\n",
    "\n",
    "if vel >= 20:\n",
    "      print('Advertencia!')\n",
    "      time.sleep(1)\n",
    "      print('Advertencia!')\n",
    "      time.sleep(1)\n",
    "      print('Se le informa a todos que un asteroide se encuetra a punto de cruzar la atmosfera terrestre')\n",
    "      time.sleep(1)\n",
    "      print('El asteroide mantiene una trayectoria no identificada')\n",
    "      time.sleep(1)\n",
    "      print('se le pide a la poblacion general que salgan a sus patios y vean el cielo')\n",
    "      print('llamen a la mision LaunchX en caso de avistar un rayo de luz en el cielo')\n",
    "else :\n",
    "      print('sistema normal')\n"
   ]
  },
  {
   "cell_type": "markdown",
   "metadata": {},
   "source": [
    "- Los asteroides de menos de 25 metros en su dimensión más grande probablemente se quemarán a medida que entren en la atmósfera de la Tierra.\n",
    "\n",
    "- Si una pieza de un asteroide que es más grande que 25 metros pero más pequeña que 1000 metros golpeara la Tierra, causaría mucho daño.\n",
    "También discutimos en el ejercicio anterior que:\n",
    "\n",
    "- La velocidad del asteroide varía en función de lo cerca que esté del sol, y cualquier velocidad superior a 25 kilómetros por segundo (km/s) merece una advertencia.\n",
    "Si un asteroide entra en la atmósfera de la Tierra a una velocidad mayor o igual a 20 km/s, a veces produce un rayo de luz que se puede ver desde la Tierra."
   ]
  },
  {
   "cell_type": "code",
   "execution_count": null,
   "metadata": {},
   "outputs": [],
   "source": [
    "tamano = 40\n",
    "vel = 25\n",
    "if vel > 25 and tamano > 25:\n",
    "    print('advertencia de asteroide!!')\n",
    "    time.sleep(1)\n",
    "    print('asteroide en cielo region alpha muy preocupante!!')\n",
    "elif vel >= 20:\n",
    "    print('advertencia de asteroide!!')\n",
    "    time.sleep(1)\n",
    "    print('se le pide a la poblacion general que salgan a sus patios y vean el cielo')\n",
    "    print('llamen a la mision LaunchX en caso de avistar un rayo de luz en el cielo')\n",
    "elif tamano < 25:\n",
    "    print('Sistemas de alarma:')\n",
    "    time.sleep(1)\n",
    "    print('           sin advertencias')\n",
    "else:\n",
    "    print('Sistemas de alarma:')\n",
    "    time.sleep(1)\n",
    "    print('           sin advertencias')"
   ]
  }
 ],
 "metadata": {
  "interpreter": {
   "hash": "13b723e4828f6b9a411a065edf83a1148013fdedeff262afffcf7a9119f3d95d"
  },
  "kernelspec": {
   "display_name": "Python 3.9.10 64-bit",
   "language": "python",
   "name": "python3"
  },
  "language_info": {
   "codemirror_mode": {
    "name": "ipython",
    "version": 3
   },
   "file_extension": ".py",
   "mimetype": "text/x-python",
   "name": "python",
   "nbconvert_exporter": "python",
   "pygments_lexer": "ipython3",
   "version": "3.9.10"
  },
  "orig_nbformat": 4
 },
 "nbformat": 4,
 "nbformat_minor": 2
}
